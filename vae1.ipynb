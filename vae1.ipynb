{
 "cells": [
  {
   "cell_type": "code",
   "execution_count": 1,
   "id": "0b674a52-28d6-488c-b351-fd54f66b042a",
   "metadata": {},
   "outputs": [],
   "source": [
    "\n",
    "import pandas as pd\n",
    "import numpy as np\n",
    "import matplotlib as mpl\n",
    "import matplotlib.pyplot as plt"
   ]
  },
  {
   "cell_type": "code",
   "execution_count": 4,
   "id": "f657d7e6-ff58-4238-b08f-1cbf51e495da",
   "metadata": {},
   "outputs": [],
   "source": [
    "funds = [{'fund_cd': '201609080B', 'fund_name': 'iFreeTOPIXインデックス'}, \n",
    "        {'fund_cd': '201609080D', 'fund_name': 'iFree外国株式インデックス(H無)'},\n",
    "        {'fund_cd': '201609080F', 'fund_name': 'iFree新興国株式インデックス'},\n",
    "        {'fund_cd': '2016090810', 'fund_name': 'iFree日本債券インデックス'},\n",
    "        {'fund_cd': '2016090811', 'fund_name': 'iFree外国債券インデックス'},\n",
    "        {'fund_cd': '2016090812', 'fund_name': 'iFree新興国債券インデックス'}, \n",
    "        {'fund_cd': '2016090813', 'fund_name': 'iFreeJ-REITインデックス'},\n",
    "        {'fund_cd': '2016090814', 'fund_name': 'iFree外国REITインデックス'}\n",
    "       ]"
   ]
  },
  {
   "cell_type": "code",
   "execution_count": 9,
   "id": "8e36e1a5-a1e2-41a7-b310-adb7a879cf0c",
   "metadata": {},
   "outputs": [],
   "source": [
    "tmp = pd.read_csv('csv/'+funds[1]['fund_cd']+'.csv')"
   ]
  },
  {
   "cell_type": "code",
   "execution_count": null,
   "id": "5e7861f9-2927-4667-bed2-ced56e830882",
   "metadata": {},
   "outputs": [],
   "source": []
  }
 ],
 "metadata": {
  "kernelspec": {
   "display_name": "Python 3 (ipykernel)",
   "language": "python",
   "name": "python3"
  },
  "language_info": {
   "codemirror_mode": {
    "name": "ipython",
    "version": 3
   },
   "file_extension": ".py",
   "mimetype": "text/x-python",
   "name": "python",
   "nbconvert_exporter": "python",
   "pygments_lexer": "ipython3",
   "version": "3.8.13"
  }
 },
 "nbformat": 4,
 "nbformat_minor": 5
}
