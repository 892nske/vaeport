{
 "cells": [
  {
   "cell_type": "code",
   "execution_count": 1,
   "id": "0b674a52-28d6-488c-b351-fd54f66b042a",
   "metadata": {},
   "outputs": [],
   "source": [
    "\n",
    "import pandas as pd\n",
    "import numpy as np\n",
    "import matplotlib as mpl\n",
    "import matplotlib.pyplot as plt"
   ]
  },
  {
   "cell_type": "code",
   "execution_count": 6,
   "id": "f657d7e6-ff58-4238-b08f-1cbf51e495da",
   "metadata": {},
   "outputs": [],
   "source": [
    "funds = [{'fund_cd': '201609080B', 'fund_name': 'iFreeTOPIXインデックス', 'asset_class': '国内株式'}, \n",
    "        {'fund_cd': '201609080D', 'fund_name': 'iFree外国株式インデックス(H無)', 'asset_class': '先進国株式'},\n",
    "        {'fund_cd': '201609080F', 'fund_name': 'iFree新興国株式インデックス', 'asset_class': '新興国株式'},\n",
    "        {'fund_cd': '2016090810', 'fund_name': 'iFree日本債券インデックス', 'asset_class': '国内債権'},\n",
    "        {'fund_cd': '2016090811', 'fund_name': 'iFree外国債券インデックス', 'asset_class': '先進国債券'},\n",
    "        {'fund_cd': '2016090812', 'fund_name': 'iFree新興国債券インデックス', 'asset_class': '新興国債券'}, \n",
    "        {'fund_cd': '2016090813', 'fund_name': 'iFreeJ-REITインデックス', 'asset_class': '国内リート'},\n",
    "        {'fund_cd': '2016090814', 'fund_name': 'iFree外国REITインデックス', 'asset_class': '先進国リート'}\n",
    "       ]"
   ]
  },
  {
   "cell_type": "code",
   "execution_count": 15,
   "id": "3e70594c-cd92-4165-9fc4-89bc12bc7cec",
   "metadata": {},
   "outputs": [],
   "source": [
    "fundsdata = pd.read_csv('csv/'+funds[0]['fund_cd']+'.csv')\n",
    "fundsdata = fundsdata.drop('基準価額', axis=1)\n",
    "for fund in funds:\n",
    "    df = pd.read_csv('csv/'+fund['fund_cd']+'.csv')\n",
    "    df = df.rename(columns={'基準価額': fund['asset_class']})\n",
    "    fundsdata = pd.merge(fundsdata, df, on='日付')"
   ]
  },
  {
   "cell_type": "code",
   "execution_count": null,
   "id": "105960b2-8f2c-46e5-a553-68e8245827bb",
   "metadata": {},
   "outputs": [],
   "source": []
  }
 ],
 "metadata": {
  "kernelspec": {
   "display_name": "Python 3 (ipykernel)",
   "language": "python",
   "name": "python3"
  },
  "language_info": {
   "codemirror_mode": {
    "name": "ipython",
    "version": 3
   },
   "file_extension": ".py",
   "mimetype": "text/x-python",
   "name": "python",
   "nbconvert_exporter": "python",
   "pygments_lexer": "ipython3",
   "version": "3.8.12"
  }
 },
 "nbformat": 4,
 "nbformat_minor": 5
}
