{
 "cells": [
  {
   "cell_type": "code",
   "execution_count": 1,
   "id": "c458f654-d915-408e-a44e-628c13d7286c",
   "metadata": {},
   "outputs": [
    {
     "name": "stderr",
     "output_type": "stream",
     "text": [
      "2023-02-12 22:22:00.330237: I tensorflow/core/platform/cpu_feature_guard.cc:193] This TensorFlow binary is optimized with oneAPI Deep Neural Network Library (oneDNN) to use the following CPU instructions in performance-critical operations:  AVX2 FMA\n",
      "To enable them in other operations, rebuild TensorFlow with the appropriate compiler flags.\n",
      "2023-02-12 22:22:00.589502: W tensorflow/compiler/xla/stream_executor/platform/default/dso_loader.cc:64] Could not load dynamic library 'libcudart.so.11.0'; dlerror: libcudart.so.11.0: cannot open shared object file: No such file or directory\n",
      "2023-02-12 22:22:00.589552: I tensorflow/compiler/xla/stream_executor/cuda/cudart_stub.cc:29] Ignore above cudart dlerror if you do not have a GPU set up on your machine.\n",
      "2023-02-12 22:22:02.201629: W tensorflow/compiler/xla/stream_executor/platform/default/dso_loader.cc:64] Could not load dynamic library 'libnvinfer.so.7'; dlerror: libnvinfer.so.7: cannot open shared object file: No such file or directory\n",
      "2023-02-12 22:22:02.201954: W tensorflow/compiler/xla/stream_executor/platform/default/dso_loader.cc:64] Could not load dynamic library 'libnvinfer_plugin.so.7'; dlerror: libnvinfer_plugin.so.7: cannot open shared object file: No such file or directory\n",
      "2023-02-12 22:22:02.201980: W tensorflow/compiler/tf2tensorrt/utils/py_utils.cc:38] TF-TRT Warning: Cannot dlopen some TensorRT libraries. If you would like to use Nvidia GPU with TensorRT, please make sure the missing libraries mentioned above are installed properly.\n",
      "/home/nske/miniconda3/envs/jp38/lib/python3.8/site-packages/scipy/__init__.py:146: UserWarning: A NumPy version >=1.16.5 and <1.23.0 is required for this version of SciPy (detected version 1.24.1\n",
      "  warnings.warn(f\"A NumPy version >={np_minversion} and <{np_maxversion}\"\n"
     ]
    }
   ],
   "source": [
    "import pandas as pd\n",
    "import numpy as np\n",
    "import matplotlib as mpl\n",
    "import matplotlib.pyplot as plt\n",
    "import tensorflow as tf\n",
    "from tensorflow import keras\n",
    "from tensorflow.keras import layers"
   ]
  },
  {
   "cell_type": "code",
   "execution_count": 2,
   "id": "2475e78e-83a0-4e20-b98c-341950ff7939",
   "metadata": {},
   "outputs": [],
   "source": [
    "funds = [{'fund_cd': '2008010903', 'fund_name': 'SMT TOPIXインデックス･オープン', 'asset_class': '国内株式'}, \n",
    "        {'fund_cd': '2008010904', 'fund_name': 'SMT グローバル株式インデックス', 'asset_class': '先進国株式'},\n",
    "        {'fund_cd': '2008040102', 'fund_name': 'インデックスF海外新興国株式', 'asset_class': '新興国株式'},\n",
    "        {'fund_cd': '2008010905', 'fund_name': 'SMT 国内債券インデックス･オープン', 'asset_class': '国内債券'},\n",
    "        {'fund_cd': '2008010906', 'fund_name': 'SMT グローバル債券インデックス', 'asset_class': '先進国債券'},\n",
    "        {'fund_cd': '2008040103', 'fund_name': 'インデックスF海外新興国債券(1年決算型)', 'asset_class': '新興国債券'}, \n",
    "        {'fund_cd': '2008010907', 'fund_name': 'SMT J-REITインデックス･オープン', 'asset_class': '国内リート'},\n",
    "        {'fund_cd': '2008010908', 'fund_name': 'SMT グローバルREITインデックス', 'asset_class': '先進国リート'}\n",
    "       ]"
   ]
  },
  {
   "cell_type": "code",
   "execution_count": 3,
   "id": "e80f6b08-5a22-421f-9ba3-7f4d132bb174",
   "metadata": {},
   "outputs": [],
   "source": [
    "fundsdata = pd.read_csv('csv/'+funds[0]['fund_cd']+'.csv')\n",
    "fundsdata = fundsdata.drop('基準価額', axis=1)\n",
    "for fund in funds:\n",
    "    df = pd.read_csv('csv/'+fund['fund_cd']+'.csv')\n",
    "    df = df.rename(columns={'基準価額': fund['asset_class']})\n",
    "    fundsdata = pd.merge(fundsdata, df, on='日付')\n",
    "fundsdata.columns = ['date','jp_stock','foreign_stock','emerging_stock','jp_bond','foreign_bond','emerging_bond','jp_reit','foreign_reit']"
   ]
  },
  {
   "cell_type": "code",
   "execution_count": 4,
   "id": "85b002cd-485f-460f-9a0b-a799aec4a7b1",
   "metadata": {},
   "outputs": [],
   "source": [
    "# 2008~2019年をテストデータにする\n",
    "funds_test = fundsdata.query('date < 20200101')\n",
    "funds_dif = funds_test[ ['jp_stock','foreign_stock','emerging_stock','jp_bond','foreign_bond','emerging_bond','jp_reit','foreign_reit'] ]\n",
    "funds_dif = np.log(funds_dif)-np.log(funds_dif.shift(1))\n",
    "funds_dif = funds_dif.loc[1:]"
   ]
  },
  {
   "cell_type": "code",
   "execution_count": 5,
   "id": "dd319cc1-e169-48a6-bba1-4048c08672e5",
   "metadata": {},
   "outputs": [],
   "source": [
    "# ウィンドウ区間の変化率をndarrayに変換\n",
    "w=32\n",
    "xlist = []\n",
    "for i in range(len(funds_dif.index) - w):\n",
    "    xlist.append(funds_dif.loc[i+1:i+w].values)"
   ]
  },
  {
   "cell_type": "code",
   "execution_count": 6,
   "id": "4652f65d-6e37-4215-b78d-5db67095b6fe",
   "metadata": {},
   "outputs": [],
   "source": [
    "x_test = np.stack(xlist,0)"
   ]
  },
  {
   "cell_type": "code",
   "execution_count": 7,
   "id": "f9b87b0a-0d47-4baa-912d-1f0295a87b14",
   "metadata": {},
   "outputs": [],
   "source": [
    "# サンプリング層\n",
    "class Sampling(layers.Layer):\n",
    "    \"\"\"Uses (z_mean, z_log_var) to sample z, the vector encoding a digit.\"\"\"\n",
    "\n",
    "    def call(self, inputs):\n",
    "        z_mean, z_log_var = inputs\n",
    "        batch = tf.shape(z_mean)[0]\n",
    "        dim = tf.shape(z_mean)[1]\n",
    "        epsilon = tf.keras.backend.random_normal(shape=(batch, dim))\n",
    "        return z_mean + tf.exp(0.5 * z_log_var) * epsilon"
   ]
  },
  {
   "cell_type": "code",
   "execution_count": 8,
   "id": "60199b8a-89e3-442a-84ab-e47ff7dd3c0b",
   "metadata": {},
   "outputs": [
    {
     "name": "stderr",
     "output_type": "stream",
     "text": [
      "2023-02-12 22:23:56.009979: W tensorflow/compiler/xla/stream_executor/platform/default/dso_loader.cc:64] Could not load dynamic library 'libcuda.so.1'; dlerror: libcuda.so.1: cannot open shared object file: No such file or directory\n",
      "2023-02-12 22:23:56.010099: W tensorflow/compiler/xla/stream_executor/cuda/cuda_driver.cc:265] failed call to cuInit: UNKNOWN ERROR (303)\n",
      "2023-02-12 22:23:56.010245: I tensorflow/compiler/xla/stream_executor/cuda/cuda_diagnostics.cc:156] kernel driver does not appear to be running on this host (DESKTOP-UBLLJ3A): /proc/driver/nvidia/version does not exist\n",
      "2023-02-12 22:23:56.010966: I tensorflow/core/platform/cpu_feature_guard.cc:193] This TensorFlow binary is optimized with oneAPI Deep Neural Network Library (oneDNN) to use the following CPU instructions in performance-critical operations:  AVX2 FMA\n",
      "To enable them in other operations, rebuild TensorFlow with the appropriate compiler flags.\n"
     ]
    },
    {
     "name": "stdout",
     "output_type": "stream",
     "text": [
      "Model: \"encoder\"\n",
      "__________________________________________________________________________________________________\n",
      " Layer (type)                   Output Shape         Param #     Connected to                     \n",
      "==================================================================================================\n",
      " input_1 (InputLayer)           [(None, 32, 8, 1)]   0           []                               \n",
      "                                                                                                  \n",
      " conv2d (Conv2D)                (None, 16, 4, 32)    320         ['input_1[0][0]']                \n",
      "                                                                                                  \n",
      " conv2d_1 (Conv2D)              (None, 8, 2, 64)     18496       ['conv2d[0][0]']                 \n",
      "                                                                                                  \n",
      " flatten (Flatten)              (None, 1024)         0           ['conv2d_1[0][0]']               \n",
      "                                                                                                  \n",
      " dense (Dense)                  (None, 16)           16400       ['flatten[0][0]']                \n",
      "                                                                                                  \n",
      " z_mean (Dense)                 (None, 2)            34          ['dense[0][0]']                  \n",
      "                                                                                                  \n",
      " z_log_var (Dense)              (None, 2)            34          ['dense[0][0]']                  \n",
      "                                                                                                  \n",
      " sampling (Sampling)            (None, 2)            0           ['z_mean[0][0]',                 \n",
      "                                                                  'z_log_var[0][0]']              \n",
      "                                                                                                  \n",
      "==================================================================================================\n",
      "Total params: 35,284\n",
      "Trainable params: 35,284\n",
      "Non-trainable params: 0\n",
      "__________________________________________________________________________________________________\n"
     ]
    }
   ],
   "source": [
    "# VAEエンコーダ部分\n",
    "latent_dim = 2\n",
    "\n",
    "encoder_inputs = keras.Input(shape=(w, 8, 1))\n",
    "x = layers.Conv2D(32, (3,3), activation=\"softplus\", strides=2, padding=\"same\")(encoder_inputs)\n",
    "x = layers.Conv2D(64, (3,3), activation=\"softplus\", strides=2, padding=\"same\")(x)\n",
    "x = layers.Flatten()(x)\n",
    "x = layers.Dense(16, activation=\"softplus\")(x)\n",
    "z_mean = layers.Dense(latent_dim, name=\"z_mean\")(x)\n",
    "z_log_var = layers.Dense(latent_dim, name=\"z_log_var\")(x)\n",
    "z = Sampling()([z_mean, z_log_var])\n",
    "encoder = keras.Model(encoder_inputs, [z_mean, z_log_var, z], name=\"encoder\")\n",
    "encoder.summary()"
   ]
  },
  {
   "cell_type": "code",
   "execution_count": 9,
   "id": "379aedca-4966-4972-8796-db8e9d78f431",
   "metadata": {},
   "outputs": [
    {
     "name": "stdout",
     "output_type": "stream",
     "text": [
      "Model: \"decoder\"\n",
      "_________________________________________________________________\n",
      " Layer (type)                Output Shape              Param #   \n",
      "=================================================================\n",
      " input_2 (InputLayer)        [(None, 2)]               0         \n",
      "                                                                 \n",
      " dense_1 (Dense)             (None, 1024)              3072      \n",
      "                                                                 \n",
      " reshape (Reshape)           (None, 8, 2, 64)          0         \n",
      "                                                                 \n",
      " conv2d_transpose (Conv2DTra  (None, 16, 4, 64)        36928     \n",
      " nspose)                                                         \n",
      "                                                                 \n",
      " conv2d_transpose_1 (Conv2DT  (None, 32, 8, 32)        18464     \n",
      " ranspose)                                                       \n",
      "                                                                 \n",
      " conv2d_transpose_2 (Conv2DT  (None, 32, 8, 1)         161       \n",
      " ranspose)                                                       \n",
      "                                                                 \n",
      "=================================================================\n",
      "Total params: 58,625\n",
      "Trainable params: 58,625\n",
      "Non-trainable params: 0\n",
      "_________________________________________________________________\n"
     ]
    }
   ],
   "source": [
    "# VAEデコーダ部分\n",
    "latent_inputs = keras.Input(shape=(latent_dim,))\n",
    "x = layers.Dense(8 * 2 * 64, activation=\"softplus\")(latent_inputs)\n",
    "x = layers.Reshape((8, 2, 64))(x)\n",
    "x = layers.Conv2DTranspose(64, (3,3), activation=\"softplus\", strides=2, padding=\"same\")(x)\n",
    "x = layers.Conv2DTranspose(32, (3,3), activation=\"softplus\", strides=2, padding=\"same\")(x)\n",
    "decoder_outputs = layers.Conv2DTranspose(1, (5,1), activation=\"sigmoid\", padding=\"same\")(x)\n",
    "decoder = keras.Model(latent_inputs, decoder_outputs, name=\"decoder\")\n",
    "decoder.summary()"
   ]
  },
  {
   "cell_type": "code",
   "execution_count": 10,
   "id": "78099a18-ba47-4de3-901c-e66f1a343846",
   "metadata": {},
   "outputs": [],
   "source": [
    "class VAE(keras.Model):\n",
    "    def __init__(self, encoder, decoder, **kwargs):\n",
    "        super(VAE, self).__init__(**kwargs)\n",
    "        self.encoder = encoder\n",
    "        self.decoder = decoder\n",
    "        self.total_loss_tracker = keras.metrics.Mean(name=\"total_loss\")\n",
    "        self.reconstruction_loss_tracker = keras.metrics.Mean(\n",
    "            name=\"reconstruction_loss\"\n",
    "        )\n",
    "        self.kl_loss_tracker = keras.metrics.Mean(name=\"kl_loss\")\n",
    "\n",
    "    @property\n",
    "    def metrics(self):\n",
    "        return [\n",
    "            self.total_loss_tracker,\n",
    "            self.reconstruction_loss_tracker,\n",
    "            self.kl_loss_tracker,\n",
    "        ]\n",
    "    \n",
    "    def predict(self, x):\n",
    "        z_mean, _, _ = self.encoder.predict(x)\n",
    "        y = self.decoder.predict(z_mean)\n",
    "        return y\n",
    "\n",
    "    def train_step(self, data):\n",
    "        with tf.GradientTape() as tape:\n",
    "            z_mean, z_log_var, z = self.encoder(data)\n",
    "            reconstruction = self.decoder(z)\n",
    "            reconstruction_loss = tf.reduce_mean(\n",
    "                tf.reduce_sum(\n",
    "                    keras.losses.binary_crossentropy(data, reconstruction), axis=(1, 2)\n",
    "                )\n",
    "            )\n",
    "            kl_loss = -0.5 * (1 + z_log_var - tf.square(z_mean) - tf.exp(z_log_var))\n",
    "            kl_loss = tf.reduce_mean(tf.reduce_sum(kl_loss, axis=1))\n",
    "            total_loss = reconstruction_loss + kl_loss\n",
    "        grads = tape.gradient(total_loss, self.trainable_weights)\n",
    "        self.optimizer.apply_gradients(zip(grads, self.trainable_weights))\n",
    "        self.total_loss_tracker.update_state(total_loss)\n",
    "        self.reconstruction_loss_tracker.update_state(reconstruction_loss)\n",
    "        self.kl_loss_tracker.update_state(kl_loss)\n",
    "        return {\n",
    "            \"loss\": self.total_loss_tracker.result(),\n",
    "            \"reconstruction_loss\": self.reconstruction_loss_tracker.result(),\n",
    "            \"kl_loss\": self.kl_loss_tracker.result(),\n",
    "        }"
   ]
  },
  {
   "cell_type": "code",
   "execution_count": 11,
   "id": "f620763f-69f4-446e-a9d9-f5c9f3091177",
   "metadata": {},
   "outputs": [],
   "source": [
    "\n",
    "data = np.expand_dims(x_test,-1)"
   ]
  },
  {
   "cell_type": "code",
   "execution_count": 12,
   "id": "4716b8f4-129d-4cb9-a0cd-6a843c5eef84",
   "metadata": {},
   "outputs": [
    {
     "name": "stdout",
     "output_type": "stream",
     "text": [
      "Epoch 1/50\n",
      "23/23 [==============================] - 7s 67ms/step - loss: 80.8734 - reconstruction_loss: 32.1376 - kl_loss: 0.4623\n",
      "Epoch 2/50\n",
      "23/23 [==============================] - 1s 62ms/step - loss: 0.5259 - reconstruction_loss: 0.5316 - kl_loss: 0.0014\n",
      "Epoch 3/50\n",
      "23/23 [==============================] - 1s 58ms/step - loss: 0.5579 - reconstruction_loss: 0.5921 - kl_loss: 4.5856e-04\n",
      "Epoch 4/50\n",
      "23/23 [==============================] - 1s 62ms/step - loss: 0.6234 - reconstruction_loss: 0.5130 - kl_loss: 1.5075e-04\n",
      "Epoch 5/50\n",
      "23/23 [==============================] - 1s 60ms/step - loss: 0.6614 - reconstruction_loss: 0.5500 - kl_loss: 5.1313e-05\n",
      "Epoch 6/50\n",
      "23/23 [==============================] - 1s 64ms/step - loss: 0.4867 - reconstruction_loss: 0.5425 - kl_loss: 1.6741e-05\n",
      "Epoch 7/50\n",
      "23/23 [==============================] - 1s 65ms/step - loss: 0.4393 - reconstruction_loss: 0.5239 - kl_loss: 5.0693e-06\n",
      "Epoch 8/50\n",
      "23/23 [==============================] - 2s 67ms/step - loss: 0.4703 - reconstruction_loss: 0.5002 - kl_loss: 1.6929e-06\n",
      "Epoch 9/50\n",
      "23/23 [==============================] - 1s 60ms/step - loss: 0.5989 - reconstruction_loss: 0.4660 - kl_loss: 7.0803e-07\n",
      "Epoch 10/50\n",
      "23/23 [==============================] - 1s 57ms/step - loss: 0.5937 - reconstruction_loss: 0.4689 - kl_loss: 4.1949e-07\n",
      "Epoch 11/50\n",
      "23/23 [==============================] - 1s 53ms/step - loss: 0.4514 - reconstruction_loss: 0.4960 - kl_loss: 2.3651e-07\n",
      "Epoch 12/50\n",
      "23/23 [==============================] - 1s 47ms/step - loss: 0.5337 - reconstruction_loss: 0.4239 - kl_loss: 2.3675e-07\n",
      "Epoch 13/50\n",
      "23/23 [==============================] - 1s 51ms/step - loss: 0.5277 - reconstruction_loss: 0.4769 - kl_loss: 1.7537e-07\n",
      "Epoch 14/50\n",
      "23/23 [==============================] - 1s 58ms/step - loss: 0.3995 - reconstruction_loss: 0.4382 - kl_loss: 2.3848e-07\n",
      "Epoch 15/50\n",
      "23/23 [==============================] - 1s 48ms/step - loss: 0.4147 - reconstruction_loss: 0.4491 - kl_loss: 5.6888e-08\n",
      "Epoch 16/50\n",
      "23/23 [==============================] - 1s 61ms/step - loss: 0.3532 - reconstruction_loss: 0.4126 - kl_loss: 5.9577e-08\n",
      "Epoch 17/50\n",
      "23/23 [==============================] - 1s 55ms/step - loss: 0.3997 - reconstruction_loss: 0.4182 - kl_loss: 5.0514e-09\n",
      "Epoch 18/50\n",
      "23/23 [==============================] - 1s 53ms/step - loss: 0.3252 - reconstruction_loss: 0.4260 - kl_loss: 2.9619e-09\n",
      "Epoch 19/50\n",
      "23/23 [==============================] - 1s 50ms/step - loss: 0.3761 - reconstruction_loss: 0.3451 - kl_loss: 1.0473e-07\n",
      "Epoch 20/50\n",
      "23/23 [==============================] - 1s 52ms/step - loss: 0.3894 - reconstruction_loss: 0.3993 - kl_loss: 6.1350e-08\n",
      "Epoch 21/50\n",
      "23/23 [==============================] - 2s 66ms/step - loss: 0.3838 - reconstruction_loss: 0.4345 - kl_loss: 2.4397e-09\n",
      "Epoch 22/50\n",
      "23/23 [==============================] - 1s 60ms/step - loss: 0.4048 - reconstruction_loss: 0.4223 - kl_loss: 1.4375e-09\n",
      "Epoch 23/50\n",
      "23/23 [==============================] - 2s 94ms/step - loss: 0.4034 - reconstruction_loss: 0.4101 - kl_loss: 4.1707e-08\n",
      "Epoch 24/50\n",
      "23/23 [==============================] - 2s 66ms/step - loss: 0.4143 - reconstruction_loss: 0.3892 - kl_loss: 4.8494e-08\n",
      "Epoch 25/50\n",
      "23/23 [==============================] - 1s 58ms/step - loss: 0.3261 - reconstruction_loss: 0.4201 - kl_loss: 4.6459e-08\n",
      "Epoch 26/50\n",
      "23/23 [==============================] - 1s 60ms/step - loss: 0.4507 - reconstruction_loss: 0.3954 - kl_loss: 3.1102e-08\n",
      "Epoch 27/50\n",
      "23/23 [==============================] - 1s 62ms/step - loss: 0.4785 - reconstruction_loss: 0.3525 - kl_loss: 2.5962e-07\n",
      "Epoch 28/50\n",
      "23/23 [==============================] - 1s 65ms/step - loss: 0.2309 - reconstruction_loss: 0.3869 - kl_loss: 5.1624e-08\n",
      "Epoch 29/50\n",
      "23/23 [==============================] - 2s 82ms/step - loss: 0.4372 - reconstruction_loss: 0.3602 - kl_loss: 1.4326e-07\n",
      "Epoch 30/50\n",
      "23/23 [==============================] - 1s 63ms/step - loss: 0.3417 - reconstruction_loss: 0.4018 - kl_loss: 5.2633e-08\n",
      "Epoch 31/50\n",
      "23/23 [==============================] - 1s 64ms/step - loss: 0.3541 - reconstruction_loss: 0.4069 - kl_loss: 1.4120e-07\n",
      "Epoch 32/50\n",
      "23/23 [==============================] - 2s 73ms/step - loss: 0.3266 - reconstruction_loss: 0.3691 - kl_loss: 1.8380e-07\n",
      "Epoch 33/50\n",
      "23/23 [==============================] - 2s 71ms/step - loss: 0.2606 - reconstruction_loss: 0.3947 - kl_loss: 1.8596e-07\n",
      "Epoch 34/50\n",
      "23/23 [==============================] - 1s 62ms/step - loss: 0.4277 - reconstruction_loss: 0.3944 - kl_loss: 9.0999e-07\n",
      "Epoch 35/50\n",
      "23/23 [==============================] - 1s 60ms/step - loss: 0.4549 - reconstruction_loss: 0.3355 - kl_loss: 3.0991e-07\n",
      "Epoch 36/50\n",
      "23/23 [==============================] - 1s 61ms/step - loss: 0.5101 - reconstruction_loss: 0.3454 - kl_loss: 1.2572e-07\n",
      "Epoch 37/50\n",
      "23/23 [==============================] - 1s 62ms/step - loss: 0.3083 - reconstruction_loss: 0.3781 - kl_loss: 8.0275e-08\n",
      "Epoch 38/50\n",
      "23/23 [==============================] - 1s 60ms/step - loss: 0.3429 - reconstruction_loss: 0.3681 - kl_loss: 1.4397e-07\n",
      "Epoch 39/50\n",
      "23/23 [==============================] - 1s 60ms/step - loss: 0.2798 - reconstruction_loss: 0.3940 - kl_loss: 1.0289e-07\n",
      "Epoch 40/50\n",
      "23/23 [==============================] - 1s 62ms/step - loss: 0.2507 - reconstruction_loss: 0.3535 - kl_loss: 1.7426e-07\n",
      "Epoch 41/50\n",
      "23/23 [==============================] - 2s 65ms/step - loss: 0.3414 - reconstruction_loss: 0.4011 - kl_loss: 4.5677e-08\n",
      "Epoch 42/50\n",
      "23/23 [==============================] - 2s 66ms/step - loss: 0.3107 - reconstruction_loss: 0.3401 - kl_loss: 2.8625e-07\n",
      "Epoch 43/50\n",
      "23/23 [==============================] - 1s 62ms/step - loss: 0.3739 - reconstruction_loss: 0.3927 - kl_loss: 4.8334e-07\n",
      "Epoch 44/50\n",
      "23/23 [==============================] - 1s 63ms/step - loss: 0.3390 - reconstruction_loss: 0.3169 - kl_loss: 5.5006e-07\n",
      "Epoch 45/50\n",
      "23/23 [==============================] - 1s 63ms/step - loss: 0.5639 - reconstruction_loss: 0.3818 - kl_loss: 7.0591e-08\n",
      "Epoch 46/50\n",
      "23/23 [==============================] - 2s 68ms/step - loss: 0.2998 - reconstruction_loss: 0.3645 - kl_loss: 1.8354e-07\n",
      "Epoch 47/50\n",
      "23/23 [==============================] - 2s 75ms/step - loss: 0.5000 - reconstruction_loss: 0.3713 - kl_loss: 1.3995e-07\n",
      "Epoch 48/50\n",
      "23/23 [==============================] - 2s 80ms/step - loss: 0.3741 - reconstruction_loss: 0.3447 - kl_loss: 8.7643e-07\n",
      "Epoch 49/50\n",
      "23/23 [==============================] - 1s 63ms/step - loss: 0.4496 - reconstruction_loss: 0.3520 - kl_loss: 5.9070e-07\n",
      "Epoch 50/50\n",
      "23/23 [==============================] - 1s 64ms/step - loss: 0.3960 - reconstruction_loss: 0.3531 - kl_loss: 4.7438e-07\n"
     ]
    }
   ],
   "source": [
    "vae = VAE(encoder, decoder)\n",
    "vae.compile(optimizer=keras.optimizers.Adam())\n",
    "history = vae.fit(data, epochs=50, batch_size=128)"
   ]
  },
  {
   "cell_type": "code",
   "execution_count": 13,
   "id": "b93dca29-e571-434f-96f0-d36b4bbece05",
   "metadata": {},
   "outputs": [
    {
     "data": {
      "image/png": "[encoded data removed]",
      "text/plain": [
       "<Figure size 1080x288 with 3 Axes>"
      ]
     },
     "metadata": {
      "needs_background": "light"
     },
     "output_type": "display_data"
    }
   ],
   "source": [
    "row = 1\n",
    "col = 3\n",
    "fig, ax = plt.subplots(row, col, figsize=(15,4))\n",
    "ax[0].plot(history.history[\"loss\"])\n",
    "ax[0].set_ylabel('loss')\n",
    "ax[0].set_xlabel('epoch')\n",
    "ax[1].plot(history.history[\"reconstruction_loss\"])\n",
    "ax[1].set_ylabel('reconstruction_loss')\n",
    "ax[1].set_xlabel('epoch')\n",
    "ax[2].plot(history.history[\"kl_loss\"])\n",
    "ax[2].set_ylabel('kl_loss')\n",
    "ax[2].set_xlabel('epoch')\n",
    "plt.show()"
   ]
  },
  {
   "cell_type": "code",
   "execution_count": 27,
   "id": "2fdb4801-eb44-46e1-aa5f-141d7d405e97",
   "metadata": {},
   "outputs": [],
   "source": [
    "# 2022年以降を検証データにする\n",
    "funds_valid= fundsdata.query('date >= 20200101 and date < 20230101')\n",
    "valid_dif = funds_valid[ ['jp_stock','foreign_stock','emerging_stock','jp_bond','foreign_bond','emerging_bond','jp_reit','foreign_reit'] ]\n",
    "valid_dif.reset_index(inplace=True, drop=True)\n",
    "valid_dif = np.log(valid_dif)-np.log(valid_dif.shift(1))\n",
    "valid_dif = valid_dif.loc[1:]"
   ]
  },
  {
   "cell_type": "code",
   "execution_count": 51,
   "id": "7b20349c-4b5c-48c9-bfc6-89c5bb1243d6",
   "metadata": {},
   "outputs": [],
   "source": [
    "# ウィンドウ区間の変化率をndarrayに変換\n",
    "vlist = []\n",
    "for i in range(len(valid_dif.index) - w + 1):\n",
    "    vlist.append(valid_dif.loc[i+1:i+w].values)"
   ]
  },
  {
   "cell_type": "code",
   "execution_count": 52,
   "id": "b60ccdf5-a6c6-4601-a4d7-5c2ef388a86e",
   "metadata": {},
   "outputs": [],
   "source": [
    "x_valid = np.stack(vlist,0)"
   ]
  },
  {
   "cell_type": "code",
   "execution_count": 53,
   "id": "820d96f6-95df-4dbd-81e8-2998ba4a9c9e",
   "metadata": {},
   "outputs": [
    {
     "name": "stdout",
     "output_type": "stream",
     "text": [
      "22/22 [==============================] - 1s 8ms/step\n",
      "22/22 [==============================] - 0s 17ms/step\n"
     ]
    }
   ],
   "source": [
    "x_input = np.expand_dims(x_valid,-1)\n",
    "x_decode = vae.predict(x_input)"
   ]
  },
  {
   "cell_type": "code",
   "execution_count": 54,
   "id": "ac21af02-7715-487d-8449-74c1749ecd81",
   "metadata": {},
   "outputs": [
    {
     "data": {
      "text/plain": [
       "array([[3.66568100e-04],\n",
       "       [4.26957326e-04],\n",
       "       [1.16234914e-04],\n",
       "       [2.72120902e-04],\n",
       "       [6.53656462e-05],\n",
       "       [1.67356469e-04],\n",
       "       [2.20115558e-04],\n",
       "       [3.43277236e-04]], dtype=float32)"
      ]
     },
     "execution_count": 54,
     "metadata": {},
     "output_type": "execute_result"
    }
   ],
   "source": [
    "x_decode[230,1,:,:]"
   ]
  },
  {
   "cell_type": "code",
   "execution_count": 32,
   "id": "ca941e7a-df47-4a8b-854c-d869bfdbff4b",
   "metadata": {},
   "outputs": [
    {
     "data": {
      "text/plain": [
       "array([[ 0.00267926],\n",
       "       [ 0.00596847],\n",
       "       [-0.00170748],\n",
       "       [-0.00058717],\n",
       "       [-0.00438796],\n",
       "       [ 0.00049221],\n",
       "       [ 0.00941467],\n",
       "       [ 0.01573646]])"
      ]
     },
     "execution_count": 32,
     "metadata": {},
     "output_type": "execute_result"
    }
   ],
   "source": [
    "x_input[230,1,:,:]"
   ]
  },
  {
   "cell_type": "code",
   "execution_count": 55,
   "id": "572d73a8-b4be-46db-9776-b664dfcb885a",
   "metadata": {},
   "outputs": [],
   "source": [
    "x_input=x_input.squeeze()\n",
    "x_decode=x_decode.squeeze()\n",
    "\n",
    "\n",
    "    "
   ]
  },
  {
   "cell_type": "code",
   "execution_count": 39,
   "id": "db1329a3-b374-4c87-a5f4-52cf258a46af",
   "metadata": {},
   "outputs": [
    {
     "name": "stdout",
     "output_type": "stream",
     "text": [
      "0.021767115092859876\n"
     ]
    }
   ],
   "source": [
    "x_1=x_input[1,:,:].squeeze()\n",
    "x_2=x_decode[1,:,:].squeeze()\n",
    "n_dif=np.sum((x_1-x_2)**2).sum()\n",
    "print(n_dif)"
   ]
  },
  {
   "cell_type": "code",
   "execution_count": 56,
   "id": "5f07ea95-2e0a-472e-84a8-d613c3d3e2ea",
   "metadata": {},
   "outputs": [
    {
     "name": "stderr",
     "output_type": "stream",
     "text": [
      "/tmp/ipykernel_24567/530998421.py:2: SettingWithCopyWarning: \n",
      "A value is trying to be set on a copy of a slice from a DataFrame.\n",
      "Try using .loc[row_indexer,col_indexer] = value instead\n",
      "\n",
      "See the caveats in the documentation: https://pandas.pydata.org/pandas-docs/stable/user_guide/indexing.html#returning-a-view-versus-a-copy\n",
      "  difs['dif'] = 0\n"
     ]
    }
   ],
   "source": [
    "difs = funds_valid[['date']]\n",
    "difs['dif'] = 0\n",
    "difs.reset_index(inplace=True, drop=True)"
   ]
  },
  {
   "cell_type": "code",
   "execution_count": 57,
   "id": "313cab72-98de-4017-ba63-e048e016021b",
   "metadata": {},
   "outputs": [],
   "source": [
    "for i in range(len(x_input)):\n",
    "    vi = x_input[i,:,:].squeeze()\n",
    "    vd = x_decode[i,:,:].squeeze()\n",
    "    d = np.sum((vi-vd)**2).sum()\n",
    "    difs.iloc[w+i,1] = d"
   ]
  },
  {
   "cell_type": "code",
   "execution_count": 58,
   "id": "d74f5ae0-466f-46c2-bfa3-6ff0c4a19968",
   "metadata": {},
   "outputs": [],
   "source": [
    "difs.to_csv('difs.csv')"
   ]
  },
  {
   "cell_type": "code",
   "execution_count": null,
   "id": "5e980d59-1caf-4d0b-a303-c9125a693345",
   "metadata": {},
   "outputs": [],
   "source": []
  }
 ],
 "metadata": {
  "kernelspec": {
   "display_name": "Python 3 (ipykernel)",
   "language": "python",
   "name": "python3"
  },
  "language_info": {
   "codemirror_mode": {
    "name": "ipython",
    "version": 3
   },
   "file_extension": ".py",
   "mimetype": "text/x-python",
   "name": "python",
   "nbconvert_exporter": "python",
   "pygments_lexer": "ipython3",
   "version": "3.8.12"
  }
 },
 "nbformat": 4,
 "nbformat_minor": 5
}
