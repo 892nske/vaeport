{
 "cells": [
  {
   "cell_type": "code",
   "execution_count": 1,
   "id": "49271ba7-f2ca-4a37-958c-bd41d57f1b82",
   "metadata": {},
   "outputs": [
    {
     "name": "stderr",
     "output_type": "stream",
     "text": [
      "2023-02-11 08:56:55.324993: I tensorflow/core/platform/cpu_feature_guard.cc:193] This TensorFlow binary is optimized with oneAPI Deep Neural Network Library (oneDNN) to use the following CPU instructions in performance-critical operations:  AVX2 FMA\n",
      "To enable them in other operations, rebuild TensorFlow with the appropriate compiler flags.\n",
      "2023-02-11 08:56:55.467664: W tensorflow/compiler/xla/stream_executor/platform/default/dso_loader.cc:64] Could not load dynamic library 'libcudart.so.11.0'; dlerror: libcudart.so.11.0: cannot open shared object file: No such file or directory\n",
      "2023-02-11 08:56:55.467688: I tensorflow/compiler/xla/stream_executor/cuda/cudart_stub.cc:29] Ignore above cudart dlerror if you do not have a GPU set up on your machine.\n",
      "2023-02-11 08:56:56.224208: W tensorflow/compiler/xla/stream_executor/platform/default/dso_loader.cc:64] Could not load dynamic library 'libnvinfer.so.7'; dlerror: libnvinfer.so.7: cannot open shared object file: No such file or directory\n",
      "2023-02-11 08:56:56.224365: W tensorflow/compiler/xla/stream_executor/platform/default/dso_loader.cc:64] Could not load dynamic library 'libnvinfer_plugin.so.7'; dlerror: libnvinfer_plugin.so.7: cannot open shared object file: No such file or directory\n",
      "2023-02-11 08:56:56.224377: W tensorflow/compiler/tf2tensorrt/utils/py_utils.cc:38] TF-TRT Warning: Cannot dlopen some TensorRT libraries. If you would like to use Nvidia GPU with TensorRT, please make sure the missing libraries mentioned above are installed properly.\n",
      "/home/nske/miniconda3/envs/jp38/lib/python3.8/site-packages/scipy/__init__.py:146: UserWarning: A NumPy version >=1.16.5 and <1.23.0 is required for this version of SciPy (detected version 1.24.1\n",
      "  warnings.warn(f\"A NumPy version >={np_minversion} and <{np_maxversion}\"\n"
     ]
    }
   ],
   "source": [
    "import pandas as pd\n",
    "import numpy as np\n",
    "import matplotlib as mpl\n",
    "import matplotlib.pyplot as plt\n",
    "import tensorflow as tf\n",
    "from tensorflow import keras\n",
    "from tensorflow.keras import layers"
   ]
  },
  {
   "cell_type": "code",
   "execution_count": 2,
   "id": "82074929-2272-4d3c-b558-489245b6e4d3",
   "metadata": {},
   "outputs": [],
   "source": [
    "funds = [{'fund_cd': '2008010903', 'fund_name': 'SMT TOPIXインデックス･オープン', 'asset_class': '国内株式'}, \n",
    "        {'fund_cd': '2008010904', 'fund_name': 'SMT グローバル株式インデックス', 'asset_class': '先進国株式'},\n",
    "        {'fund_cd': '2008040102', 'fund_name': 'インデックスF海外新興国株式', 'asset_class': '新興国株式'},\n",
    "        {'fund_cd': '2008010905', 'fund_name': 'SMT 国内債券インデックス･オープン', 'asset_class': '国内債券'},\n",
    "        {'fund_cd': '2008010906', 'fund_name': 'SMT グローバル債券インデックス', 'asset_class': '先進国債券'},\n",
    "        {'fund_cd': '2008040103', 'fund_name': 'インデックスF海外新興国債券(1年決算型)', 'asset_class': '新興国債券'}, \n",
    "        {'fund_cd': '2008010907', 'fund_name': 'SMT J-REITインデックス･オープン', 'asset_class': '国内リート'},\n",
    "        {'fund_cd': '2008010908', 'fund_name': 'SMT グローバルREITインデックス', 'asset_class': '先進国リート'}\n",
    "       ]"
   ]
  },
  {
   "cell_type": "code",
   "execution_count": 4,
   "id": "be6bd34c-e68d-40cb-a7c9-0d72737210e0",
   "metadata": {},
   "outputs": [],
   "source": [
    "fundsdata = pd.read_csv('csv/'+funds[0]['fund_cd']+'.csv')\n",
    "fundsdata = fundsdata.drop('基準価額', axis=1)\n",
    "for fund in funds:\n",
    "    df = pd.read_csv('csv/'+fund['fund_cd']+'.csv')\n",
    "    df = df.rename(columns={'基準価額': fund['asset_class']})\n",
    "    fundsdata = pd.merge(fundsdata, df, on='日付')\n",
    "fundsdata.columns = ['date','jp_stock','foreign_stock','emerging_stock','jp_bond','foreign_bond','emerging_bond','jp_reit','foreign_reit']"
   ]
  },
  {
   "cell_type": "code",
   "execution_count": 5,
   "id": "dfbea29c-a674-4e5c-b563-bfbecac086f6",
   "metadata": {},
   "outputs": [],
   "source": [
    "# 2008~2019年をテストデータにする\n",
    "funds_test = fundsdata.query('date < 20200101')"
   ]
  },
  {
   "cell_type": "code",
   "execution_count": 6,
   "id": "caf1b3e3-345f-4a75-9058-cfef7e0aedb3",
   "metadata": {},
   "outputs": [
    {
     "data": {
      "text/plain": [
       "date              20080402\n",
       "jp_stock              9083\n",
       "foreign_stock         9040\n",
       "emerging_stock       10233\n",
       "jp_bond              10058\n",
       "foreign_bond          9817\n",
       "emerging_bond        10088\n",
       "jp_reit               8841\n",
       "foreign_reit         10303\n",
       "Name: 1, dtype: int64"
      ]
     },
     "execution_count": 6,
     "metadata": {},
     "output_type": "execute_result"
    }
   ],
   "source": [
    "funds_test.loc[1]"
   ]
  },
  {
   "cell_type": "code",
   "execution_count": null,
   "id": "93009e40-a313-4768-ba0d-16febfa431f5",
   "metadata": {},
   "outputs": [],
   "source": []
  }
 ],
 "metadata": {
  "kernelspec": {
   "display_name": "Python 3 (ipykernel)",
   "language": "python",
   "name": "python3"
  },
  "language_info": {
   "codemirror_mode": {
    "name": "ipython",
    "version": 3
   },
   "file_extension": ".py",
   "mimetype": "text/x-python",
   "name": "python",
   "nbconvert_exporter": "python",
   "pygments_lexer": "ipython3",
   "version": "3.8.12"
  }
 },
 "nbformat": 4,
 "nbformat_minor": 5
}
